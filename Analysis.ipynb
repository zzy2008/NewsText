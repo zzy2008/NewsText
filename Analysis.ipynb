{
 "cells": [
  {
   "cell_type": "code",
   "execution_count": 6,
   "metadata": {},
   "outputs": [],
   "source": [
    "import pandas as pd\n",
    "import numpy as np\n",
    "import matplotlib.pyplot as plt"
   ]
  },
  {
   "cell_type": "code",
   "execution_count": 7,
   "metadata": {},
   "outputs": [
    {
     "name": "stdout",
     "output_type": "stream",
     "text": [
      "   Unnamed: 0   一事   丁蕾   丈夫   上任   上升   上发   上台  上周末   上手  ...  高级别  鲁尼亚  \\\n",
      "0           0  0.0  0.0  0.0  0.0  0.0  0.0  0.0  0.0  0.0  ...  0.0  0.0   \n",
      "1           1  0.0  0.0  0.0  0.0  0.0  0.0  0.0  0.0  0.0  ...  0.0  0.0   \n",
      "2           2  0.0  0.0  0.0  0.0  0.0  0.0  0.0  0.0  0.0  ...  0.0  0.0   \n",
      "3           3  0.0  0.0  0.0  0.0  0.0  0.0  0.0  0.0  0.0  ...  0.0  0.0   \n",
      "4           4  0.0  0.0  0.0  0.0  0.0  0.0  0.0  0.0  0.0  ...  0.0  0.0   \n",
      "\n",
      "   鲍里斯   鸡蛋        黑人   黑格        黑海    龙   龙虾  cluster_labels  \n",
      "0  0.0  0.0  0.161227  0.0  0.000000  0.0  0.0             2.0  \n",
      "1  0.0  0.0  0.000000  0.0  0.000000  0.0  0.0             2.0  \n",
      "2  0.0  0.0  0.000000  0.0  0.281744  0.0  0.0             0.0  \n",
      "3  0.0  0.0  0.000000  0.0  0.000000  0.0  0.0             2.0  \n",
      "4  0.0  0.0  0.000000  0.0  0.000000  0.0  0.0             2.0  \n",
      "\n",
      "[5 rows x 1938 columns]\n"
     ]
    }
   ],
   "source": [
    "comment_pd = pd.read_csv('comment.csv')\n",
    "print(comment_pd.head())"
   ]
  },
  {
   "cell_type": "code",
   "execution_count": null,
   "metadata": {},
   "outputs": [],
   "source": []
  },
  {
   "cell_type": "code",
   "execution_count": null,
   "metadata": {},
   "outputs": [],
   "source": []
  }
 ],
 "metadata": {
  "kernelspec": {
   "display_name": "Python 3",
   "language": "python",
   "name": "python3"
  },
  "language_info": {
   "codemirror_mode": {
    "name": "ipython",
    "version": 3
   },
   "file_extension": ".py",
   "mimetype": "text/x-python",
   "name": "python",
   "nbconvert_exporter": "python",
   "pygments_lexer": "ipython3",
   "version": "3.7.3"
  }
 },
 "nbformat": 4,
 "nbformat_minor": 2
}
